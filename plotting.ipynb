{
 "cells": [
  {
   "cell_type": "code",
   "execution_count": null,
   "metadata": {},
   "outputs": [],
   "source": [
    "import xarray as xr\n",
    "import matplotlib.pyplot as plt\n",
    "import pandas as pd\n",
    "import io\n",
    "import argparse\n",
    "from collections import namedtuple\n",
    "import glob\n"
   ]
  },
  {
   "cell_type": "code",
   "execution_count": null,
   "metadata": {},
   "outputs": [],
   "source": [
    "nc_files = glob.glob('trih*.nc')\n",
    "obs_files = glob.glob('*.obs')\n",
    "if len(obs_files) == 1:\n",
    "    nc_file = nc_files[0]\n",
    "    obs_file = obs_files[0]"
   ]
  },
  {
   "cell_type": "code",
   "execution_count": null,
   "metadata": {},
   "outputs": [],
   "source": [
    "# parser = argparse.ArgumentParser(description='description')\n",
    "# parser.add_argument('--obs', type=str, default='coarser.obs', help='')\n",
    "# parser.add_argument('--nc', type=str, default='trih-coarser.nc', help='A')\n",
    "# args = parser.parse_args()\n",
    "\n",
    "# argsment = namedtuple('filename', ('obs', 'nc'))\n",
    "# args = argsment(obs='coarser.obs', nc='trih-coarser.nc')\n",
    "# args.obs\n"
   ]
  },
  {
   "cell_type": "code",
   "execution_count": null,
   "metadata": {},
   "outputs": [],
   "source": [
    "def extract_station_name(file_path):\n",
    "    obs_station_name = []\n",
    "    with open(file_path, 'r') as file:\n",
    "        for line in file:\n",
    "            line = line.strip()\n",
    "            obs = line.split()[0]\n",
    "            obs_station_name.append(obs.strip())\n",
    "    return obs_station_name\n",
    "\n",
    "obs_station_name = extract_station_name(obs_file)"
   ]
  },
  {
   "cell_type": "code",
   "execution_count": null,
   "metadata": {},
   "outputs": [],
   "source": [
    "model_dataset = xr.open_dataset(nc_file)"
   ]
  },
  {
   "cell_type": "code",
   "execution_count": null,
   "metadata": {},
   "outputs": [],
   "source": [
    "def Read_tek_file(file_path):\n",
    "    with open(file_path, 'r') as file:\n",
    "        content = file.read()\n",
    "    content_without_header = '\\n'.join(content.split('\\n')[5:])\n",
    "\n",
    "    df = pd.read_csv(io.StringIO(content_without_header), \n",
    "                    delim_whitespace=True, \n",
    "                    names=['Date', 'Time', 'WL'])\n",
    "\n",
    "    def pad_time(time_str):\n",
    "        return time_str.zfill(6)\n",
    "\n",
    "    df['Time'] = df['Time'].astype(str).apply(pad_time)\n",
    "    df['DateTime'] = pd.to_datetime(df['Date'].astype(str) + ' ' + df['Time'].astype(str), format='%Y%m%d %H%M%S')\n",
    "    df = df.drop(columns=['Date', 'Time'])\n",
    "    df = df[['DateTime', 'WL']]\n",
    "\n",
    "    return df\n",
    "\n",
    "def make_obs_df(obs_station_name):\n",
    "    obs_df = pd.DataFrame()\n",
    "    obs_df['Time'] = Read_tek_file(f\"{obs_station_name[0]}.tek\")['DateTime']\n",
    "    for name in obs_station_name:\n",
    "        df = Read_tek_file(f\"{name}.tek\")['WL']\n",
    "        obs_df[name] = df\n",
    "\n",
    "    return obs_df\n",
    "\n",
    "obs_df = make_obs_df(obs_station_name)"
   ]
  },
  {
   "cell_type": "code",
   "execution_count": null,
   "metadata": {},
   "outputs": [],
   "source": [
    "model_df = pd.DataFrame()\n",
    "model_df['Time'] = model_dataset.time\n",
    "for i, name in enumerate(obs_station_name):\n",
    "    model_df[name] = model_dataset['ZWL'].to_numpy()[:, i]\n",
    "\n",
    "# model_df"
   ]
  },
  {
   "cell_type": "code",
   "execution_count": null,
   "metadata": {},
   "outputs": [],
   "source": [
    "def clipped_dataframe(model_df, obs_df):\n",
    "    start_time = min(model_df['Time'][0], obs_df['Time'][0])\n",
    "    model_end_date = model_df['Time'][len(model_df['Time'])-1]\n",
    "    obs_end_date = obs_df['Time'][len(obs_df['Time'])-1]\n",
    "\n",
    "    if model_end_date > obs_end_date:\n",
    "        end_time = obs_end_date\n",
    "        model_df = model_df[(model_df['Time'] >= start_time) & (model_df['Time'] <= end_time)]\n",
    "    elif model_end_date < obs_end_date:\n",
    "        end_time = model_end_date\n",
    "        obs_df = obs_df[(obs_df['Time'] >= start_time) & (obs_df['Time'] <= end_time)]\n",
    "\n",
    "    return model_df, obs_df\n",
    "\n",
    "model_df, obs_df = clipped_dataframe(model_df, obs_df)"
   ]
  },
  {
   "cell_type": "code",
   "execution_count": null,
   "metadata": {},
   "outputs": [],
   "source": [
    "def interpolate(obs_df, model_df):\n",
    "    min_interval = min(obs_df['Time'].diff().min(), model_df['Time'].diff().min())\n",
    "\n",
    "    new_time_index = pd.date_range(start=min(obs_df['Time'].min(), model_df['Time'].min()),\n",
    "                                end=max(obs_df['Time'].max(), model_df['Time'].max()),\n",
    "                                freq=min_interval)\n",
    "\n",
    "    model_interpolated = model_df.set_index('Time').reindex(new_time_index).interpolate()\n",
    "    obs_interpolated = obs_df.set_index('Time').reindex(new_time_index).interpolate()\n",
    "    return model_interpolated, obs_interpolated\n",
    "\n",
    "\n",
    "model_interpolated, obs_interpolated = interpolate(obs_df, model_df)"
   ]
  },
  {
   "cell_type": "code",
   "execution_count": null,
   "metadata": {},
   "outputs": [],
   "source": [
    "def plot(obs_station_name, model_interpolated, obs_interpolated):\n",
    "    fig, axs = plt.subplots(2, 2, figsize=(12, 10))\n",
    "    axs = axs.ravel()  # Flatten the 2x2 array to make indexing easier\n",
    "\n",
    "    for ax in axs:\n",
    "        ax.clear()  # Clear the axes to prevent multiple legends\n",
    "        \n",
    "    for i, name in enumerate(obs_station_name):\n",
    "        axs[i].plot(model_interpolated[name], label=f\"model\")\n",
    "        axs[i].plot(obs_interpolated[name], label=f\"observed\")\n",
    "        # axs[i].plot(obs_interpolated[name], label=f\"observed - {name}\", linestyle='none', marker='o', markersize=2)\n",
    "\n",
    "        axs[i].set_title(name)\n",
    "        # axs[i].set_xlabel('X-axis')\n",
    "        axs[i].set_ylabel('WL')\n",
    "        axs[i].tick_params(axis='x', rotation=40)\n",
    "        axs[i].legend()\n",
    "\n",
    "    plt.tight_layout()\n",
    "    plt.show()\n",
    "\n",
    "\n",
    "plot(obs_station_name, model_interpolated, obs_interpolated)"
   ]
  },
  {
   "cell_type": "code",
   "execution_count": null,
   "metadata": {},
   "outputs": [],
   "source": []
  }
 ],
 "metadata": {
  "kernelspec": {
   "display_name": "base",
   "language": "python",
   "name": "python3"
  },
  "language_info": {
   "codemirror_mode": {
    "name": "ipython",
    "version": 3
   },
   "file_extension": ".py",
   "mimetype": "text/x-python",
   "name": "python",
   "nbconvert_exporter": "python",
   "pygments_lexer": "ipython3",
   "version": "3.9.0"
  }
 },
 "nbformat": 4,
 "nbformat_minor": 2
}
